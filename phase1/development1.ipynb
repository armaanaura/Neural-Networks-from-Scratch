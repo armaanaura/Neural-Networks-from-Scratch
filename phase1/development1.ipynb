{
 "cells": [
  {
   "cell_type": "code",
   "execution_count": 2,
   "id": "99a5a16d",
   "metadata": {},
   "outputs": [],
   "source": [
    "from typing import List"
   ]
  },
  {
   "cell_type": "code",
   "execution_count": 1,
   "id": "feb0278c",
   "metadata": {},
   "outputs": [],
   "source": [
    "import numpy as np"
   ]
  },
  {
   "cell_type": "code",
   "execution_count": null,
   "id": "c2ab4a2f",
   "metadata": {},
   "outputs": [],
   "source": [
    "#creating a simple neurone class Neuron:\n",
    "class Neurone:\n",
    "    #constructor\n",
    "    def __init__ (self, num_inputs, activation = 'sigmoid'):\n",
    "        self.activation_type = activation\n",
    "        self.num_inputs = num_inputs\n",
    "        self.weights = np.random.uniform(-1,1,num_inputs)\n",
    "        self.bias = 0\n",
    "        self.weighted_sum = self.calculate_weighted_sum()\n",
    "    \n",
    "    def calculate_weighted_sum(self):\n",
    "        weighted_sum = np.dot(self.num_inputs,self.weights)+self.bias\n",
    "        return weighted_sum\n",
    "\n",
    "    def activate(self):\n",
    "        if self.activation_type == 'sigmoid':\n",
    "            return 1/(1+np.exp(self.weighted_sum))\n",
    "        elif self.activation_type == 'relu':\n",
    "            return max(0,self.weighted_sum)\n",
    "        elif self.activation_type == 'tanh':\n",
    "            return np.tanh(self.weighted_sum)\n",
    "        else:\n",
    "            raise NotImplementedError(f\"Activation function '{self.activation_type}' is not available.\")\n",
    "    \n",
    "    \n",
    "    \n",
    "    \n",
    "    "
   ]
  },
  {
   "cell_type": "code",
   "execution_count": null,
   "id": "a9eafe46",
   "metadata": {},
   "outputs": [],
   "source": [
    "class Layer:\n",
    "    def __init__(self, num_neurones, num_inputs, activation_type = 'sigmoid'):\n",
    "        self.num_neurones = num_neurones\n",
    "        self.neurones = []\n",
    "        for pointer in range(num_neurones):\n",
    "            neurone = Neurone(num_inputs,activation_type)\n",
    "            self.neurones.append(neurone)\n",
    "        "
   ]
  },
  {
   "cell_type": "code",
   "execution_count": null,
   "id": "78cb7fe2",
   "metadata": {},
   "outputs": [],
   "source": [
    "class NeuralNetwork:\n",
    "    def __init__(self, num_inputs, loss_function_type='mean_squared_error'):\n",
    "        self.num_inputs = num_inputs\n",
    "        self.loss_function_type = loss_function_type\n",
    "        self.layers: List[Layer] = []\n",
    "    \n",
    "    def add_layer(self, num_neurones, activation_type = 'sigmoid' ):\n",
    "        num_inputs = self.num_inputs\n",
    "        if not len(self.layers) == 0:\n",
    "            num_inputs = self.layers[-1].num_neurones\n",
    "        layer = Layer(num_neurones, num_inputs, activation_type)\n",
    "        self.layers.append(layer)\n",
    "    "
   ]
  }
 ],
 "metadata": {
  "kernelspec": {
   "display_name": "venv3_10",
   "language": "python",
   "name": "python3"
  },
  "language_info": {
   "codemirror_mode": {
    "name": "ipython",
    "version": 3
   },
   "file_extension": ".py",
   "mimetype": "text/x-python",
   "name": "python",
   "nbconvert_exporter": "python",
   "pygments_lexer": "ipython3",
   "version": "3.10.8"
  }
 },
 "nbformat": 4,
 "nbformat_minor": 5
}
